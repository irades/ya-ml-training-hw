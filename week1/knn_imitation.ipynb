{
 "cells": [
  {
   "cell_type": "code",
   "execution_count": 1,
   "id": "bd3d3ff9",
   "metadata": {},
   "outputs": [],
   "source": [
    "import numpy as np"
   ]
  },
  {
   "cell_type": "code",
   "execution_count": 8,
   "id": "fc45fc90",
   "metadata": {},
   "outputs": [
    {
     "data": {
      "text/plain": [
       "array([[ 5,  6,  7],\n",
       "       [ 8,  9, 10],\n",
       "       [11, 12, 13],\n",
       "       [14, 15, 16],\n",
       "       [17, 18, 19],\n",
       "       [ 5,  6,  7],\n",
       "       [ 8,  9, 10],\n",
       "       [11, 12, 13],\n",
       "       [14, 15, 16],\n",
       "       [17, 18, 19],\n",
       "       [ 5,  6,  7],\n",
       "       [ 8,  9, 10],\n",
       "       [11, 12, 13],\n",
       "       [14, 15, 16],\n",
       "       [17, 18, 19]])"
      ]
     },
     "execution_count": 8,
     "metadata": {},
     "output_type": "execute_result"
    }
   ],
   "source": [
    "X_train = np.resize(np.arange(5, 20), new_shape=(15, 3))\n",
    "X_train"
   ]
  },
  {
   "cell_type": "code",
   "execution_count": 30,
   "id": "7623258f",
   "metadata": {},
   "outputs": [],
   "source": [
    "y_train = np.random.randint(1, 5, size=(15,))"
   ]
  },
  {
   "cell_type": "code",
   "execution_count": 31,
   "id": "b51afb6d",
   "metadata": {},
   "outputs": [
    {
     "name": "stdout",
     "output_type": "stream",
     "text": [
      "0'th train: 1\n",
      "1'th train: 1\n",
      "2'th train: 3\n",
      "3'th train: 2\n",
      "4'th train: 1\n",
      "5'th train: 4\n",
      "6'th train: 2\n",
      "7'th train: 3\n",
      "8'th train: 4\n",
      "9'th train: 4\n",
      "10'th train: 3\n",
      "11'th train: 3\n",
      "12'th train: 1\n",
      "13'th train: 4\n",
      "14'th train: 3\n"
     ]
    }
   ],
   "source": [
    "# 1 3 5 8\n",
    "for i in range(y_train.shape[0]):\n",
    "    print(f\"{i}'th train: {y_train[i]}\")"
   ]
  },
  {
   "cell_type": "code",
   "execution_count": 10,
   "id": "33fb0a6d",
   "metadata": {},
   "outputs": [
    {
     "data": {
      "text/plain": [
       "array([[11,  6,  4,  7, 21, 14, 18,  3, 19,  2, 11,  8, 10,  5,  9],\n",
       "       [22, 12, 14, 15, 22,  9, 23, 14, 11,  2,  5,  7, 15, 19,  9],\n",
       "       [ 4,  2,  4, 11, 15, 20,  5,  2,  4, 11, 12, 18, 14,  7, 22],\n",
       "       [ 8,  8,  8, 11,  9, 17,  7, 19,  6, 10, 20,  7, 17, 18,  4],\n",
       "       [17,  3, 17,  6, 11, 18,  4, 10, 15,  9,  5, 17, 21, 13,  8],\n",
       "       [12, 19, 10, 20, 17, 23, 13, 10, 18,  5, 13,  4, 11,  3, 13],\n",
       "       [14, 17, 16,  4,  9, 23, 16, 15,  7, 21,  4, 22, 20, 17, 14],\n",
       "       [ 3, 14,  2, 20, 18, 18, 20,  6,  4,  5, 14, 19,  4, 20, 16],\n",
       "       [10,  7,  5, 24,  6,  2,  9, 20, 20, 12, 22,  8, 14, 12, 20],\n",
       "       [ 5, 14, 19,  6, 13, 10, 15, 19, 21,  1, 14, 22, 10, 19, 21]])"
      ]
     },
     "execution_count": 10,
     "metadata": {},
     "output_type": "execute_result"
    }
   ],
   "source": [
    "dists = np.random.randint(1, 25, size=(10, 15))\n",
    "dists"
   ]
  },
  {
   "cell_type": "code",
   "execution_count": 46,
   "id": "99752af3",
   "metadata": {},
   "outputs": [
    {
     "data": {
      "text/plain": [
       "array([0., 0., 0., 0., 0., 0., 0., 0., 0., 0.])"
      ]
     },
     "execution_count": 46,
     "metadata": {},
     "output_type": "execute_result"
    }
   ],
   "source": [
    "k = 4\n",
    "num_test = dists.shape[0]\n",
    "y_test = np.zeros(shape=(num_test))\n",
    "y_test"
   ]
  },
  {
   "cell_type": "code",
   "execution_count": 47,
   "id": "75feb624",
   "metadata": {},
   "outputs": [
    {
     "name": "stdout",
     "output_type": "stream",
     "text": [
      "vec_nums_0: ***[ 9  7  2 13]***\n",
      "closest_y_0: [4, 3, 3, 4]\n",
      "[3 4]\n",
      "[2 2]\n",
      "3.0\n",
      "vec_nums_1: ***[ 9 10 11  5]***\n",
      "closest_y_1: [4, 3, 3, 4]\n",
      "[3 4]\n",
      "[2 2]\n",
      "3.0\n",
      "vec_nums_2: ***[1 7 0 2]***\n",
      "closest_y_2: [1, 3, 1, 3]\n",
      "[1 3]\n",
      "[2 2]\n",
      "1.0\n",
      "vec_nums_3: ***[14  8  6 11]***\n",
      "closest_y_3: [3, 4, 2, 3]\n",
      "[2 3 4]\n",
      "[1 2 1]\n",
      "3.0\n",
      "vec_nums_4: ***[ 1  6 10  3]***\n",
      "closest_y_4: [1, 2, 3, 2]\n",
      "[1 2 3]\n",
      "[1 2 1]\n",
      "2.0\n",
      "vec_nums_5: ***[13 11  9  2]***\n",
      "closest_y_5: [4, 3, 4, 3]\n",
      "[3 4]\n",
      "[2 2]\n",
      "3.0\n",
      "vec_nums_6: ***[ 3 10  8  4]***\n",
      "closest_y_6: [2, 3, 4, 1]\n",
      "[1 2 3 4]\n",
      "[1 1 1 1]\n",
      "1.0\n",
      "vec_nums_7: ***[ 2  0  8 12]***\n",
      "closest_y_7: [3, 1, 4, 1]\n",
      "[1 3 4]\n",
      "[2 1 1]\n",
      "1.0\n",
      "vec_nums_8: ***[5 2 4 1]***\n",
      "closest_y_8: [4, 3, 1, 1]\n",
      "[1 3 4]\n",
      "[2 1 1]\n",
      "1.0\n",
      "vec_nums_9: ***[9 0 3 5]***\n",
      "closest_y_9: [4, 1, 2, 4]\n",
      "[1 2 4]\n",
      "[1 1 2]\n",
      "4.0\n"
     ]
    }
   ],
   "source": [
    "for i in range(num_test):\n",
    "    vec_nums = np.argsort(dists[i])[:k]\n",
    "    print(f\"vec_nums_{i}: ***{vec_nums}***\")\n",
    "    closest_y = [y_train[vec_num] for vec_num in vec_nums]\n",
    "    print(f\"closest_y_{i}: {closest_y}\")\n",
    "    unq_labels, labels_counts = np.unique(closest_y, return_counts=True)\n",
    "    print(unq_labels)\n",
    "    print(labels_counts)\n",
    "    y_test[i] = unq_labels[np.argmax(labels_counts)]\n",
    "    print(y_test[i])"
   ]
  },
  {
   "cell_type": "code",
   "execution_count": 44,
   "id": "da9c3919",
   "metadata": {},
   "outputs": [
    {
     "data": {
      "text/plain": [
       "array([1., 1., 3., 3., 1., 1., 4., 2., 3., 3.])"
      ]
     },
     "execution_count": 44,
     "metadata": {},
     "output_type": "execute_result"
    }
   ],
   "source": [
    "y_test"
   ]
  },
  {
   "cell_type": "code",
   "execution_count": null,
   "id": "2f0cbb92",
   "metadata": {},
   "outputs": [],
   "source": []
  }
 ],
 "metadata": {
  "kernelspec": {
   "display_name": "Python 3 (ipykernel)",
   "language": "python",
   "name": "python3"
  },
  "language_info": {
   "codemirror_mode": {
    "name": "ipython",
    "version": 3
   },
   "file_extension": ".py",
   "mimetype": "text/x-python",
   "name": "python",
   "nbconvert_exporter": "python",
   "pygments_lexer": "ipython3",
   "version": "3.10.4"
  }
 },
 "nbformat": 4,
 "nbformat_minor": 5
}
