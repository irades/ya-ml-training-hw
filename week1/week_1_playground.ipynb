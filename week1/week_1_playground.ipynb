{
 "cells": [
  {
   "cell_type": "code",
   "execution_count": 1,
   "id": "8cb783ca",
   "metadata": {},
   "outputs": [],
   "source": [
    "import numpy as np"
   ]
  },
  {
   "cell_type": "code",
   "execution_count": 2,
   "id": "3cd89d68",
   "metadata": {},
   "outputs": [],
   "source": [
    "o = [1, 2, 3, 4, 5]\n",
    "m = [[1, 2, 3, 4, 5,], [6, 7, 8, 9, 10,]]"
   ]
  },
  {
   "cell_type": "code",
   "execution_count": 3,
   "id": "fd91eba7",
   "metadata": {},
   "outputs": [],
   "source": [
    "a = np.array(o)"
   ]
  },
  {
   "cell_type": "code",
   "execution_count": 4,
   "id": "d6b6dd89",
   "metadata": {},
   "outputs": [
    {
     "name": "stdout",
     "output_type": "stream",
     "text": [
      "[1 2 3 4 5]\n",
      "<class 'numpy.ndarray'>\n",
      "(5,)\n"
     ]
    }
   ],
   "source": [
    "print(a)\n",
    "print(type(a))\n",
    "print(a.shape)"
   ]
  },
  {
   "cell_type": "code",
   "execution_count": 5,
   "id": "ffdf6822",
   "metadata": {},
   "outputs": [],
   "source": [
    "b = np.array(m)"
   ]
  },
  {
   "cell_type": "code",
   "execution_count": 6,
   "id": "3ae0da3d",
   "metadata": {},
   "outputs": [
    {
     "name": "stdout",
     "output_type": "stream",
     "text": [
      "[[ 1  2  3  4  5]\n",
      " [ 6  7  8  9 10]]\n",
      "<class 'numpy.ndarray'>\n",
      "(2, 5)\n"
     ]
    }
   ],
   "source": [
    "print(b)\n",
    "print(type(b))\n",
    "print(b.shape)"
   ]
  },
  {
   "cell_type": "code",
   "execution_count": 7,
   "id": "11f46c2d",
   "metadata": {},
   "outputs": [
    {
     "name": "stdout",
     "output_type": "stream",
     "text": [
      "5\n"
     ]
    }
   ],
   "source": [
    "print(a.shape[0])"
   ]
  },
  {
   "cell_type": "code",
   "execution_count": 8,
   "id": "009a6b32",
   "metadata": {},
   "outputs": [
    {
     "name": "stdout",
     "output_type": "stream",
     "text": [
      "1\n",
      "2\n",
      "3\n",
      "4\n",
      "5\n"
     ]
    }
   ],
   "source": [
    "for i in range(a.shape[0]):\n",
    "    print(a[i])"
   ]
  },
  {
   "cell_type": "code",
   "execution_count": 9,
   "id": "c1b31e4a",
   "metadata": {},
   "outputs": [],
   "source": [
    "dists = np.zeros((10, 20))"
   ]
  },
  {
   "cell_type": "code",
   "execution_count": 10,
   "id": "56e45659",
   "metadata": {},
   "outputs": [
    {
     "data": {
      "text/plain": [
       "array([[0., 0., 0., 0., 0., 0., 0., 0., 0., 0., 0., 0., 0., 0., 0., 0.,\n",
       "        0., 0., 0., 0.],\n",
       "       [0., 0., 0., 0., 0., 0., 0., 0., 0., 0., 0., 0., 0., 0., 0., 0.,\n",
       "        0., 0., 0., 0.],\n",
       "       [0., 0., 0., 0., 0., 0., 0., 0., 0., 0., 0., 0., 0., 0., 0., 0.,\n",
       "        0., 0., 0., 0.],\n",
       "       [0., 0., 0., 0., 0., 0., 0., 0., 0., 0., 0., 0., 0., 0., 0., 0.,\n",
       "        0., 0., 0., 0.],\n",
       "       [0., 0., 0., 0., 0., 0., 0., 0., 0., 0., 0., 0., 0., 0., 0., 0.,\n",
       "        0., 0., 0., 0.],\n",
       "       [0., 0., 0., 0., 0., 0., 0., 0., 0., 0., 0., 0., 0., 0., 0., 0.,\n",
       "        0., 0., 0., 0.],\n",
       "       [0., 0., 0., 0., 0., 0., 0., 0., 0., 0., 0., 0., 0., 0., 0., 0.,\n",
       "        0., 0., 0., 0.],\n",
       "       [0., 0., 0., 0., 0., 0., 0., 0., 0., 0., 0., 0., 0., 0., 0., 0.,\n",
       "        0., 0., 0., 0.],\n",
       "       [0., 0., 0., 0., 0., 0., 0., 0., 0., 0., 0., 0., 0., 0., 0., 0.,\n",
       "        0., 0., 0., 0.],\n",
       "       [0., 0., 0., 0., 0., 0., 0., 0., 0., 0., 0., 0., 0., 0., 0., 0.,\n",
       "        0., 0., 0., 0.]])"
      ]
     },
     "execution_count": 10,
     "metadata": {},
     "output_type": "execute_result"
    }
   ],
   "source": [
    "dists"
   ]
  },
  {
   "cell_type": "code",
   "execution_count": 11,
   "id": "d457bf2d",
   "metadata": {},
   "outputs": [
    {
     "data": {
      "text/plain": [
       "(10, 20)"
      ]
     },
     "execution_count": 11,
     "metadata": {},
     "output_type": "execute_result"
    }
   ],
   "source": [
    "dists.shape"
   ]
  },
  {
   "cell_type": "code",
   "execution_count": 12,
   "id": "7e98efde",
   "metadata": {},
   "outputs": [
    {
     "data": {
      "text/plain": [
       "array([ 1,  2,  3,  4,  5,  6,  7,  8,  9, 10, 11, 12, 13, 14, 15, 16, 17,\n",
       "       18, 19, 20, 21, 22, 23, 24, 25, 26, 27, 28, 29, 30, 31, 32, 33, 34,\n",
       "       35, 36, 37, 38, 39, 40, 41, 42, 43, 44, 45, 46, 47, 48, 49, 50, 51,\n",
       "       52, 53, 54, 55, 56, 57, 58, 59, 60, 61, 62, 63, 64, 65, 66, 67, 68,\n",
       "       69, 70, 71, 72, 73, 74, 75, 76, 77, 78, 79, 80])"
      ]
     },
     "execution_count": 12,
     "metadata": {},
     "output_type": "execute_result"
    }
   ],
   "source": [
    "rnd = np.arange(1, 81)\n",
    "rnd"
   ]
  },
  {
   "cell_type": "code",
   "execution_count": 13,
   "id": "d4f63dd9",
   "metadata": {},
   "outputs": [],
   "source": [
    "rnd = np.resize(a=rnd, new_shape=(10, 8))"
   ]
  },
  {
   "cell_type": "code",
   "execution_count": 14,
   "id": "8108a3cd",
   "metadata": {},
   "outputs": [
    {
     "data": {
      "text/plain": [
       "array([[ 1,  2,  3,  4,  5,  6,  7,  8],\n",
       "       [ 9, 10, 11, 12, 13, 14, 15, 16],\n",
       "       [17, 18, 19, 20, 21, 22, 23, 24],\n",
       "       [25, 26, 27, 28, 29, 30, 31, 32],\n",
       "       [33, 34, 35, 36, 37, 38, 39, 40],\n",
       "       [41, 42, 43, 44, 45, 46, 47, 48],\n",
       "       [49, 50, 51, 52, 53, 54, 55, 56],\n",
       "       [57, 58, 59, 60, 61, 62, 63, 64],\n",
       "       [65, 66, 67, 68, 69, 70, 71, 72],\n",
       "       [73, 74, 75, 76, 77, 78, 79, 80]])"
      ]
     },
     "execution_count": 14,
     "metadata": {},
     "output_type": "execute_result"
    }
   ],
   "source": [
    "rnd"
   ]
  },
  {
   "cell_type": "code",
   "execution_count": 15,
   "id": "70441916",
   "metadata": {},
   "outputs": [
    {
     "data": {
      "text/plain": [
       "array([ 9, 10, 11, 12, 13, 14, 15, 16])"
      ]
     },
     "execution_count": 15,
     "metadata": {},
     "output_type": "execute_result"
    }
   ],
   "source": [
    "rnd[1]"
   ]
  },
  {
   "cell_type": "code",
   "execution_count": 16,
   "id": "96ff0e92",
   "metadata": {},
   "outputs": [
    {
     "data": {
      "text/plain": [
       "array([17, 18, 19, 20, 21, 22, 23, 24])"
      ]
     },
     "execution_count": 16,
     "metadata": {},
     "output_type": "execute_result"
    }
   ],
   "source": [
    "rnd[2]"
   ]
  },
  {
   "cell_type": "code",
   "execution_count": 17,
   "id": "0518d583",
   "metadata": {},
   "outputs": [
    {
     "data": {
      "text/plain": [
       "22.627416997969522"
      ]
     },
     "execution_count": 17,
     "metadata": {},
     "output_type": "execute_result"
    }
   ],
   "source": [
    "c = np.sqrt(np.sum(np.square(rnd[1] - rnd[2])))\n",
    "c"
   ]
  },
  {
   "cell_type": "code",
   "execution_count": 18,
   "id": "8fe1c6f4",
   "metadata": {},
   "outputs": [
    {
     "data": {
      "text/plain": [
       "array([ 5, -9,  1, -1, -3])"
      ]
     },
     "execution_count": 18,
     "metadata": {},
     "output_type": "execute_result"
    }
   ],
   "source": [
    "x = np.random.randint(-10, 10, size=(5,))\n",
    "x"
   ]
  },
  {
   "cell_type": "code",
   "execution_count": 19,
   "id": "62ce80a5",
   "metadata": {},
   "outputs": [
    {
     "data": {
      "text/plain": [
       "array([ 5,  8, -5,  2, -4])"
      ]
     },
     "execution_count": 19,
     "metadata": {},
     "output_type": "execute_result"
    }
   ],
   "source": [
    "z = np.random.randint(-10, 10, size=(5,))\n",
    "z"
   ]
  },
  {
   "cell_type": "code",
   "execution_count": 20,
   "id": "79aebb0c",
   "metadata": {},
   "outputs": [
    {
     "data": {
      "text/plain": [
       "array([  0, -17,   6,  -3,   1])"
      ]
     },
     "execution_count": 20,
     "metadata": {},
     "output_type": "execute_result"
    }
   ],
   "source": [
    "t = x - z\n",
    "t"
   ]
  },
  {
   "cell_type": "code",
   "execution_count": 21,
   "id": "8389d52c",
   "metadata": {},
   "outputs": [
    {
     "data": {
      "text/plain": [
       "array([  0, 289,  36,   9,   1])"
      ]
     },
     "execution_count": 21,
     "metadata": {},
     "output_type": "execute_result"
    }
   ],
   "source": [
    "t_squared = np.square(t)\n",
    "t_squared"
   ]
  },
  {
   "cell_type": "code",
   "execution_count": 22,
   "id": "6e877f32",
   "metadata": {},
   "outputs": [
    {
     "data": {
      "text/plain": [
       "335"
      ]
     },
     "execution_count": 22,
     "metadata": {},
     "output_type": "execute_result"
    }
   ],
   "source": [
    "t_squared_sum = np.sum(t_squared)\n",
    "t_squared_sum"
   ]
  },
  {
   "cell_type": "code",
   "execution_count": 23,
   "id": "c9b948d9",
   "metadata": {},
   "outputs": [
    {
     "data": {
      "text/plain": [
       "18.303005217723125"
      ]
     },
     "execution_count": 23,
     "metadata": {},
     "output_type": "execute_result"
    }
   ],
   "source": [
    "t_squared_sum_root = np.sqrt(t_squared_sum)\n",
    "t_squared_sum_root"
   ]
  },
  {
   "cell_type": "code",
   "execution_count": 41,
   "id": "838755e9",
   "metadata": {},
   "outputs": [
    {
     "data": {
      "text/plain": [
       "array([ 8,  1,  4, -2, -8, -1])"
      ]
     },
     "execution_count": 41,
     "metadata": {},
     "output_type": "execute_result"
    }
   ],
   "source": [
    "# q(1x6) w(15x6) e(1x10)\n",
    "q = np.random.randint(-10, 11, size=(6,))\n",
    "q"
   ]
  },
  {
   "cell_type": "code",
   "execution_count": 25,
   "id": "fb9c6403",
   "metadata": {},
   "outputs": [
    {
     "data": {
      "text/plain": [
       "array([[ -1,  10,  -5,  10,   2,  -6],\n",
       "       [ -8,   6,   9,  -6,  -7,   3],\n",
       "       [  0,   2,  -1,  -1,   8,   5],\n",
       "       [  0,   9,  -3,   3,  -1,   0],\n",
       "       [ -5,  -3,   2,  -1,   2,  -3],\n",
       "       [ -3,   3,  -5,   5,   7,  -1],\n",
       "       [ -8,   9,  -6,  -8,  -2,   8],\n",
       "       [  5,   5,   7,  -5,  -5,   8],\n",
       "       [  3,   8,   8,   7,  -8,  -9],\n",
       "       [  9,  -8,  -7,  -7,   3,  -8],\n",
       "       [  7,  -9, -10,  -9,   2,  -2],\n",
       "       [ -5,  -8,  -7,   4,  10,  -9],\n",
       "       [ -3,  -9,  -3,   5,  -6,  -3],\n",
       "       [ 10,  -5,  -9,  -5,  -4,   6],\n",
       "       [ -2,   1,  -8,   5,   2,  -5]])"
      ]
     },
     "execution_count": 25,
     "metadata": {},
     "output_type": "execute_result"
    }
   ],
   "source": [
    "w = np.random.randint(-10, 11, size=(90,))\n",
    "w = np.resize(w, new_shape=(15, 6))\n",
    "w"
   ]
  },
  {
   "cell_type": "code",
   "execution_count": 31,
   "id": "ceb95036",
   "metadata": {},
   "outputs": [
    {
     "data": {
      "text/plain": [
       "array([[ -1,  -8,   0,   0,  -5,  -3,  -8,   5,   3,   9,   7,  -5,  -3,\n",
       "         10,  -2],\n",
       "       [ 10,   6,   2,   9,  -3,   3,   9,   5,   8,  -8,  -9,  -8,  -9,\n",
       "         -5,   1],\n",
       "       [ -5,   9,  -1,  -3,   2,  -5,  -6,   7,   8,  -7, -10,  -7,  -3,\n",
       "         -9,  -8],\n",
       "       [ 10,  -6,  -1,   3,  -1,   5,  -8,  -5,   7,  -7,  -9,   4,   5,\n",
       "         -5,   5],\n",
       "       [  2,  -7,   8,  -1,   2,   7,  -2,  -5,  -8,   3,   2,  10,  -6,\n",
       "         -4,   2],\n",
       "       [ -6,   3,   5,   0,  -3,  -1,   8,   8,  -9,  -8,  -2,  -9,  -3,\n",
       "          6,  -5]])"
      ]
     },
     "execution_count": 31,
     "metadata": {},
     "output_type": "execute_result"
    }
   ],
   "source": [
    "w = np.transpose(w)\n",
    "w"
   ]
  },
  {
   "cell_type": "code",
   "execution_count": 38,
   "id": "a42b9865",
   "metadata": {},
   "outputs": [
    {
     "name": "stdout",
     "output_type": "stream",
     "text": [
      "[[ 4 -7 -2  7 -9 -5]]\n",
      "(1, 6)\n"
     ]
    }
   ],
   "source": [
    "print(q)\n",
    "print(q.shape)"
   ]
  },
  {
   "cell_type": "code",
   "execution_count": 36,
   "id": "325a7c07",
   "metadata": {},
   "outputs": [
    {
     "name": "stdout",
     "output_type": "stream",
     "text": [
      "[ 6  1 -3 -5  5  9]\n",
      "(6,)\n"
     ]
    }
   ],
   "source": [
    "qwer = np.transpose(q)\n",
    "print(qwer)\n",
    "print(qwer.shape)"
   ]
  },
  {
   "cell_type": "code",
   "execution_count": 39,
   "id": "22c75e56",
   "metadata": {},
   "outputs": [
    {
     "ename": "ValueError",
     "evalue": "operands could not be broadcast together with shapes (6,15) (1,6) ",
     "output_type": "error",
     "traceback": [
      "\u001b[1;31m---------------------------------------------------------------------------\u001b[0m",
      "\u001b[1;31mValueError\u001b[0m                                Traceback (most recent call last)",
      "Cell \u001b[1;32mIn [39], line 1\u001b[0m\n\u001b[1;32m----> 1\u001b[0m e \u001b[38;5;241m=\u001b[39m \u001b[43mw\u001b[49m\u001b[43m \u001b[49m\u001b[38;5;241;43m+\u001b[39;49m\u001b[43m \u001b[49m\u001b[43mq\u001b[49m\n\u001b[0;32m      2\u001b[0m e\n",
      "\u001b[1;31mValueError\u001b[0m: operands could not be broadcast together with shapes (6,15) (1,6) "
     ]
    }
   ],
   "source": [
    "e = w + q\n",
    "e"
   ]
  },
  {
   "cell_type": "code",
   "execution_count": 43,
   "id": "325f7129",
   "metadata": {},
   "outputs": [
    {
     "name": "stdout",
     "output_type": "stream",
     "text": [
      "[ 8  1  4 -2 -8 -1]\n",
      "[[ 8]\n",
      " [ 1]\n",
      " [ 4]\n",
      " [-2]\n",
      " [-8]\n",
      " [-1]]\n"
     ]
    }
   ],
   "source": [
    "print(q)\n",
    "q = q[:, np.newaxis]\n",
    "print(q)\n",
    "# abort transposing"
   ]
  },
  {
   "cell_type": "code",
   "execution_count": 76,
   "id": "26a590c7",
   "metadata": {},
   "outputs": [
    {
     "name": "stdout",
     "output_type": "stream",
     "text": [
      "q\n",
      "[[-2 -9  1  7 -5  4]]\n",
      "w\n",
      "[[ -9  -2   3  -5   1  -7]\n",
      " [  7   3   3   9   0   1]\n",
      " [ -4  -1  -2 -10   7   1]\n",
      " [ -5   1   5  -9  -1  -6]\n",
      " [ -7  -7  -6  -6  -9   4]\n",
      " [ -1  -7  -3  -3  -1  -6]\n",
      " [ -3 -10  -6 -10 -10  -4]\n",
      " [ -9   7  -6  -4   4  -1]\n",
      " [  4   5   2   8   1  -1]\n",
      " [  1   8  -9  -6   3   5]\n",
      " [ -8   7   0   0   4  -9]\n",
      " [  0   7  10   2   6   1]\n",
      " [  8   4   1  -1  -6 -10]\n",
      " [  4 -10   7   6   1   9]\n",
      " [ -4   5   7  -5   1  10]]\n",
      "temp\n",
      "[[-11 -11   4   2  -4  -3]\n",
      " [  5  -6   4  16  -5   5]\n",
      " [ -6 -10  -1  -3   2   5]\n",
      " [ -7  -8   6  -2  -6  -2]\n",
      " [ -9 -16  -5   1 -14   8]\n",
      " [ -3 -16  -2   4  -6  -2]\n",
      " [ -5 -19  -5  -3 -15   0]\n",
      " [-11  -2  -5   3  -1   3]\n",
      " [  2  -4   3  15  -4   3]\n",
      " [ -1  -1  -8   1  -2   9]\n",
      " [-10  -2   1   7  -1  -5]\n",
      " [ -2  -2  11   9   1   5]\n",
      " [  6  -5   2   6 -11  -6]\n",
      " [  2 -19   8  13  -4  13]\n",
      " [ -6  -4   8   2  -4  14]]\n",
      "w\n",
      "[[ -9  -2   3  -5   1  -7]\n",
      " [  7   3   3   9   0   1]\n",
      " [ -4  -1  -2 -10   7   1]\n",
      " [ -5   1   5  -9  -1  -6]\n",
      " [ -7  -7  -6  -6  -9   4]\n",
      " [ -1  -7  -3  -3  -1  -6]\n",
      " [ -3 -10  -6 -10 -10  -4]\n",
      " [ -9   7  -6  -4   4  -1]\n",
      " [  4   5   2   8   1  -1]\n",
      " [  1   8  -9  -6   3   5]\n",
      " [ -8   7   0   0   4  -9]\n",
      " [  0   7  10   2   6   1]\n",
      " [  8   4   1  -1  -6 -10]\n",
      " [  4 -10   7   6   1   9]\n",
      " [ -4   5   7  -5   1  10]]\n",
      "temp\n",
      "[[121 121  16   4  16   9]\n",
      " [ 25  36  16 256  25  25]\n",
      " [ 36 100   1   9   4  25]\n",
      " [ 49  64  36   4  36   4]\n",
      " [ 81 256  25   1 196  64]\n",
      " [  9 256   4  16  36   4]\n",
      " [ 25 361  25   9 225   0]\n",
      " [121   4  25   9   1   9]\n",
      " [  4  16   9 225  16   9]\n",
      " [  1   1  64   1   4  81]\n",
      " [100   4   1  49   1  25]\n",
      " [  4   4 121  81   1  25]\n",
      " [ 36  25   4  36 121  36]\n",
      " [  4 361  64 169  16 169]\n",
      " [ 36  16  64   4  16 196]]\n",
      "e\n",
      "[16.94107435 19.57038579 13.22875656 13.89244399 24.95996795 18.02775638\n",
      " 25.3968502  13.         16.70329309 12.32882801 13.41640786 15.3622915\n",
      " 16.0623784  27.98213716 18.22086716]\n",
      "(15,)\n"
     ]
    }
   ],
   "source": [
    "# q(1 x 6) w(15 x 6) e(1 x 15) dists(test x 15)\n",
    "# q = np.arange(1, 7)\n",
    "# q = np.resize(q, new_shape=(1, 6))\n",
    "q = np.random.randint(-10, 11, size=(1, 6))\n",
    "print('q')\n",
    "print(q)\n",
    "# w = np.arange(1, 7)\n",
    "# w = np.resize(w, new_shape=(15, 6))\n",
    "w = np.random.randint(-10, 11, size=(15, 6))\n",
    "print('w')\n",
    "print(w)\n",
    "temp = w + q\n",
    "print('temp')\n",
    "print(temp)\n",
    "temp = np.square(temp)\n",
    "print('w')\n",
    "print(w)\n",
    "print('temp')\n",
    "print(temp)\n",
    "e = np.sqrt(np.sum(temp, axis=1))\n",
    "print('e')\n",
    "print(e)\n",
    "print(e.shape)"
   ]
  },
  {
   "cell_type": "code",
   "execution_count": 80,
   "id": "f1ade6b3",
   "metadata": {},
   "outputs": [
    {
     "name": "stdout",
     "output_type": "stream",
     "text": [
      "[287 383 175 193 623 325 645 169 279 152 180 236 258 783 332]\n"
     ]
    }
   ],
   "source": [
    "print(np.sum(np.square(w + q), axis=1))"
   ]
  },
  {
   "cell_type": "code",
   "execution_count": 81,
   "id": "dfb7d75c",
   "metadata": {},
   "outputs": [
    {
     "data": {
      "text/plain": [
       "array([[0., 0., 0., 0., 0., 0., 0., 0., 0., 0., 0., 0., 0., 0., 0.],\n",
       "       [0., 0., 0., 0., 0., 0., 0., 0., 0., 0., 0., 0., 0., 0., 0.],\n",
       "       [0., 0., 0., 0., 0., 0., 0., 0., 0., 0., 0., 0., 0., 0., 0.],\n",
       "       [0., 0., 0., 0., 0., 0., 0., 0., 0., 0., 0., 0., 0., 0., 0.],\n",
       "       [0., 0., 0., 0., 0., 0., 0., 0., 0., 0., 0., 0., 0., 0., 0.],\n",
       "       [0., 0., 0., 0., 0., 0., 0., 0., 0., 0., 0., 0., 0., 0., 0.],\n",
       "       [0., 0., 0., 0., 0., 0., 0., 0., 0., 0., 0., 0., 0., 0., 0.],\n",
       "       [0., 0., 0., 0., 0., 0., 0., 0., 0., 0., 0., 0., 0., 0., 0.],\n",
       "       [0., 0., 0., 0., 0., 0., 0., 0., 0., 0., 0., 0., 0., 0., 0.],\n",
       "       [0., 0., 0., 0., 0., 0., 0., 0., 0., 0., 0., 0., 0., 0., 0.],\n",
       "       [0., 0., 0., 0., 0., 0., 0., 0., 0., 0., 0., 0., 0., 0., 0.],\n",
       "       [0., 0., 0., 0., 0., 0., 0., 0., 0., 0., 0., 0., 0., 0., 0.],\n",
       "       [0., 0., 0., 0., 0., 0., 0., 0., 0., 0., 0., 0., 0., 0., 0.],\n",
       "       [0., 0., 0., 0., 0., 0., 0., 0., 0., 0., 0., 0., 0., 0., 0.],\n",
       "       [0., 0., 0., 0., 0., 0., 0., 0., 0., 0., 0., 0., 0., 0., 0.],\n",
       "       [0., 0., 0., 0., 0., 0., 0., 0., 0., 0., 0., 0., 0., 0., 0.],\n",
       "       [0., 0., 0., 0., 0., 0., 0., 0., 0., 0., 0., 0., 0., 0., 0.],\n",
       "       [0., 0., 0., 0., 0., 0., 0., 0., 0., 0., 0., 0., 0., 0., 0.],\n",
       "       [0., 0., 0., 0., 0., 0., 0., 0., 0., 0., 0., 0., 0., 0., 0.],\n",
       "       [0., 0., 0., 0., 0., 0., 0., 0., 0., 0., 0., 0., 0., 0., 0.],\n",
       "       [0., 0., 0., 0., 0., 0., 0., 0., 0., 0., 0., 0., 0., 0., 0.],\n",
       "       [0., 0., 0., 0., 0., 0., 0., 0., 0., 0., 0., 0., 0., 0., 0.],\n",
       "       [0., 0., 0., 0., 0., 0., 0., 0., 0., 0., 0., 0., 0., 0., 0.],\n",
       "       [0., 0., 0., 0., 0., 0., 0., 0., 0., 0., 0., 0., 0., 0., 0.],\n",
       "       [0., 0., 0., 0., 0., 0., 0., 0., 0., 0., 0., 0., 0., 0., 0.],\n",
       "       [0., 0., 0., 0., 0., 0., 0., 0., 0., 0., 0., 0., 0., 0., 0.],\n",
       "       [0., 0., 0., 0., 0., 0., 0., 0., 0., 0., 0., 0., 0., 0., 0.],\n",
       "       [0., 0., 0., 0., 0., 0., 0., 0., 0., 0., 0., 0., 0., 0., 0.],\n",
       "       [0., 0., 0., 0., 0., 0., 0., 0., 0., 0., 0., 0., 0., 0., 0.],\n",
       "       [0., 0., 0., 0., 0., 0., 0., 0., 0., 0., 0., 0., 0., 0., 0.]])"
      ]
     },
     "execution_count": 81,
     "metadata": {},
     "output_type": "execute_result"
    }
   ],
   "source": [
    "zs = np.zeros(shape=(30, 15))\n",
    "zs"
   ]
  },
  {
   "cell_type": "code",
   "execution_count": 86,
   "id": "fa0e65ce",
   "metadata": {},
   "outputs": [
    {
     "name": "stdout",
     "output_type": "stream",
     "text": [
      "[[-2 -9  1  7 -5  4]]\n",
      "[[ -9  -2   3  -5   1  -7]\n",
      " [  7   3   3   9   0   1]\n",
      " [ -4  -1  -2 -10   7   1]\n",
      " [ -5   1   5  -9  -1  -6]\n",
      " [ -7  -7  -6  -6  -9   4]\n",
      " [ -1  -7  -3  -3  -1  -6]\n",
      " [ -3 -10  -6 -10 -10  -4]\n",
      " [ -9   7  -6  -4   4  -1]\n",
      " [  4   5   2   8   1  -1]\n",
      " [  1   8  -9  -6   3   5]\n",
      " [ -8   7   0   0   4  -9]\n",
      " [  0   7  10   2   6   1]\n",
      " [  8   4   1  -1  -6 -10]\n",
      " [  4 -10   7   6   1   9]\n",
      " [ -4   5   7  -5   1  10]]\n"
     ]
    }
   ],
   "source": [
    "print(q)\n",
    "print(w)"
   ]
  },
  {
   "cell_type": "code",
   "execution_count": 84,
   "id": "e6996000",
   "metadata": {},
   "outputs": [
    {
     "data": {
      "text/plain": [
       "array([[20.0748599 , 16.34013464, 22.7815715 , 22.29349681, 16.21727474,\n",
       "        15.39480432, 20.71231518, 24.10394159, 17.17556404, 25.13961018,\n",
       "        24.33105012, 22.27105745, 23.02172887, 11.61895004, 21.26029163],\n",
       "       [ 0.        ,  0.        ,  0.        ,  0.        ,  0.        ,\n",
       "         0.        ,  0.        ,  0.        ,  0.        ,  0.        ,\n",
       "         0.        ,  0.        ,  0.        ,  0.        ,  0.        ],\n",
       "       [ 0.        ,  0.        ,  0.        ,  0.        ,  0.        ,\n",
       "         0.        ,  0.        ,  0.        ,  0.        ,  0.        ,\n",
       "         0.        ,  0.        ,  0.        ,  0.        ,  0.        ],\n",
       "       [ 0.        ,  0.        ,  0.        ,  0.        ,  0.        ,\n",
       "         0.        ,  0.        ,  0.        ,  0.        ,  0.        ,\n",
       "         0.        ,  0.        ,  0.        ,  0.        ,  0.        ],\n",
       "       [ 0.        ,  0.        ,  0.        ,  0.        ,  0.        ,\n",
       "         0.        ,  0.        ,  0.        ,  0.        ,  0.        ,\n",
       "         0.        ,  0.        ,  0.        ,  0.        ,  0.        ],\n",
       "       [ 0.        ,  0.        ,  0.        ,  0.        ,  0.        ,\n",
       "         0.        ,  0.        ,  0.        ,  0.        ,  0.        ,\n",
       "         0.        ,  0.        ,  0.        ,  0.        ,  0.        ],\n",
       "       [ 0.        ,  0.        ,  0.        ,  0.        ,  0.        ,\n",
       "         0.        ,  0.        ,  0.        ,  0.        ,  0.        ,\n",
       "         0.        ,  0.        ,  0.        ,  0.        ,  0.        ],\n",
       "       [ 0.        ,  0.        ,  0.        ,  0.        ,  0.        ,\n",
       "         0.        ,  0.        ,  0.        ,  0.        ,  0.        ,\n",
       "         0.        ,  0.        ,  0.        ,  0.        ,  0.        ],\n",
       "       [ 0.        ,  0.        ,  0.        ,  0.        ,  0.        ,\n",
       "         0.        ,  0.        ,  0.        ,  0.        ,  0.        ,\n",
       "         0.        ,  0.        ,  0.        ,  0.        ,  0.        ],\n",
       "       [ 0.        ,  0.        ,  0.        ,  0.        ,  0.        ,\n",
       "         0.        ,  0.        ,  0.        ,  0.        ,  0.        ,\n",
       "         0.        ,  0.        ,  0.        ,  0.        ,  0.        ],\n",
       "       [ 0.        ,  0.        ,  0.        ,  0.        ,  0.        ,\n",
       "         0.        ,  0.        ,  0.        ,  0.        ,  0.        ,\n",
       "         0.        ,  0.        ,  0.        ,  0.        ,  0.        ],\n",
       "       [ 0.        ,  0.        ,  0.        ,  0.        ,  0.        ,\n",
       "         0.        ,  0.        ,  0.        ,  0.        ,  0.        ,\n",
       "         0.        ,  0.        ,  0.        ,  0.        ,  0.        ],\n",
       "       [ 0.        ,  0.        ,  0.        ,  0.        ,  0.        ,\n",
       "         0.        ,  0.        ,  0.        ,  0.        ,  0.        ,\n",
       "         0.        ,  0.        ,  0.        ,  0.        ,  0.        ],\n",
       "       [ 0.        ,  0.        ,  0.        ,  0.        ,  0.        ,\n",
       "         0.        ,  0.        ,  0.        ,  0.        ,  0.        ,\n",
       "         0.        ,  0.        ,  0.        ,  0.        ,  0.        ],\n",
       "       [ 0.        ,  0.        ,  0.        ,  0.        ,  0.        ,\n",
       "         0.        ,  0.        ,  0.        ,  0.        ,  0.        ,\n",
       "         0.        ,  0.        ,  0.        ,  0.        ,  0.        ],\n",
       "       [ 0.        ,  0.        ,  0.        ,  0.        ,  0.        ,\n",
       "         0.        ,  0.        ,  0.        ,  0.        ,  0.        ,\n",
       "         0.        ,  0.        ,  0.        ,  0.        ,  0.        ],\n",
       "       [ 0.        ,  0.        ,  0.        ,  0.        ,  0.        ,\n",
       "         0.        ,  0.        ,  0.        ,  0.        ,  0.        ,\n",
       "         0.        ,  0.        ,  0.        ,  0.        ,  0.        ],\n",
       "       [ 0.        ,  0.        ,  0.        ,  0.        ,  0.        ,\n",
       "         0.        ,  0.        ,  0.        ,  0.        ,  0.        ,\n",
       "         0.        ,  0.        ,  0.        ,  0.        ,  0.        ],\n",
       "       [ 0.        ,  0.        ,  0.        ,  0.        ,  0.        ,\n",
       "         0.        ,  0.        ,  0.        ,  0.        ,  0.        ,\n",
       "         0.        ,  0.        ,  0.        ,  0.        ,  0.        ],\n",
       "       [ 0.        ,  0.        ,  0.        ,  0.        ,  0.        ,\n",
       "         0.        ,  0.        ,  0.        ,  0.        ,  0.        ,\n",
       "         0.        ,  0.        ,  0.        ,  0.        ,  0.        ],\n",
       "       [ 0.        ,  0.        ,  0.        ,  0.        ,  0.        ,\n",
       "         0.        ,  0.        ,  0.        ,  0.        ,  0.        ,\n",
       "         0.        ,  0.        ,  0.        ,  0.        ,  0.        ],\n",
       "       [ 0.        ,  0.        ,  0.        ,  0.        ,  0.        ,\n",
       "         0.        ,  0.        ,  0.        ,  0.        ,  0.        ,\n",
       "         0.        ,  0.        ,  0.        ,  0.        ,  0.        ],\n",
       "       [ 0.        ,  0.        ,  0.        ,  0.        ,  0.        ,\n",
       "         0.        ,  0.        ,  0.        ,  0.        ,  0.        ,\n",
       "         0.        ,  0.        ,  0.        ,  0.        ,  0.        ],\n",
       "       [ 0.        ,  0.        ,  0.        ,  0.        ,  0.        ,\n",
       "         0.        ,  0.        ,  0.        ,  0.        ,  0.        ,\n",
       "         0.        ,  0.        ,  0.        ,  0.        ,  0.        ],\n",
       "       [ 0.        ,  0.        ,  0.        ,  0.        ,  0.        ,\n",
       "         0.        ,  0.        ,  0.        ,  0.        ,  0.        ,\n",
       "         0.        ,  0.        ,  0.        ,  0.        ,  0.        ],\n",
       "       [ 0.        ,  0.        ,  0.        ,  0.        ,  0.        ,\n",
       "         0.        ,  0.        ,  0.        ,  0.        ,  0.        ,\n",
       "         0.        ,  0.        ,  0.        ,  0.        ,  0.        ],\n",
       "       [ 0.        ,  0.        ,  0.        ,  0.        ,  0.        ,\n",
       "         0.        ,  0.        ,  0.        ,  0.        ,  0.        ,\n",
       "         0.        ,  0.        ,  0.        ,  0.        ,  0.        ],\n",
       "       [ 0.        ,  0.        ,  0.        ,  0.        ,  0.        ,\n",
       "         0.        ,  0.        ,  0.        ,  0.        ,  0.        ,\n",
       "         0.        ,  0.        ,  0.        ,  0.        ,  0.        ],\n",
       "       [ 0.        ,  0.        ,  0.        ,  0.        ,  0.        ,\n",
       "         0.        ,  0.        ,  0.        ,  0.        ,  0.        ,\n",
       "         0.        ,  0.        ,  0.        ,  0.        ,  0.        ],\n",
       "       [ 0.        ,  0.        ,  0.        ,  0.        ,  0.        ,\n",
       "         0.        ,  0.        ,  0.        ,  0.        ,  0.        ,\n",
       "         0.        ,  0.        ,  0.        ,  0.        ,  0.        ]])"
      ]
     },
     "execution_count": 84,
     "metadata": {},
     "output_type": "execute_result"
    }
   ],
   "source": [
    "zs[0] = np.sqrt(np.sum(np.square(w - q), axis=1))\n",
    "zs"
   ]
  },
  {
   "cell_type": "code",
   "execution_count": 116,
   "id": "f75d3edf",
   "metadata": {},
   "outputs": [
    {
     "name": "stdout",
     "output_type": "stream",
     "text": [
      "[[ 2  4]\n",
      " [ 2  1]\n",
      " [-2 -2]\n",
      " [ 1 -1]\n",
      " [-3  0]]\n",
      "\n",
      "[[ 2  1]\n",
      " [-3 -2]\n",
      " [ 4 -3]\n",
      " [ 3 -1]\n",
      " [ 4 -2]\n",
      " [-4  0]\n",
      " [-4 -3]]\n",
      "\n",
      "[[ 2 -3  4  3  4 -4 -4]\n",
      " [ 1 -2 -3 -1 -2  0 -3]]\n"
     ]
    }
   ],
   "source": [
    "# t(5x2) r(7x2) d(5x7)\n",
    "t = np.random.randint(-5, 6, size=(5, 2))\n",
    "r = np.random.randint(-5, 6, size=(7, 2))\n",
    "d = np.zeros(shape=(5, 7))\n",
    "print(t)\n",
    "print()\n",
    "print(r)\n",
    "print()\n",
    "print(np.transpose(r))"
   ]
  },
  {
   "cell_type": "code",
   "execution_count": 117,
   "id": "ae75840c",
   "metadata": {},
   "outputs": [
    {
     "name": "stdout",
     "output_type": "stream",
     "text": [
      "[[3.         7.81024968 7.28010989 5.09901951 6.32455532 7.21110255\n",
      "  9.21954446]\n",
      " [0.         5.83095189 4.47213595 2.23606798 3.60555128 6.08276253\n",
      "  7.21110255]\n",
      " [5.         1.         6.08276253 5.09901951 6.         2.82842712\n",
      "  2.23606798]\n",
      " [2.23606798 4.12310563 3.60555128 2.         3.16227766 5.09901951\n",
      "  5.38516481]\n",
      " [5.09901951 2.         7.61577311 6.08276253 7.28010989 1.\n",
      "  3.16227766]]\n"
     ]
    }
   ],
   "source": [
    "# t(5x2) r(7x2) d(5x7)\n",
    "d = np.sqrt((np.matmul(t, r.T) * -2) + np.sum(np.square(t), axis=1, keepdims=True) + np.sum(np.square(r), axis=1))\n",
    "print(d)"
   ]
  },
  {
   "cell_type": "code",
   "execution_count": 110,
   "id": "7d9f2854",
   "metadata": {},
   "outputs": [],
   "source": [
    "t_sqd = np.square(t)\n",
    "t_sqd_sum = np.sum(t_sqd, axis=1, keepdims=True)"
   ]
  },
  {
   "cell_type": "code",
   "execution_count": 111,
   "id": "d9fed14d",
   "metadata": {},
   "outputs": [],
   "source": [
    "r_sqd = np.square(r)\n",
    "r_sqd_sum = np.sum(r_sqd, axis=1)\n",
    "d = d + r_sqd_sum"
   ]
  },
  {
   "cell_type": "code",
   "execution_count": 112,
   "id": "f7f041c4",
   "metadata": {},
   "outputs": [
    {
     "name": "stdout",
     "output_type": "stream",
     "text": [
      "[[ 58  12  58 102  48  30 130]\n",
      " [ 92  22 -20 100  82 100 110]\n",
      " [ 42   4  42  70  88  30  90]\n",
      " [ 68  12 -12  72 108  80  80]\n",
      " [ 38   2  38  62  98  30  80]]\n"
     ]
    }
   ],
   "source": [
    "d = d + r_sqd_sum\n",
    "print(d)"
   ]
  },
  {
   "cell_type": "code",
   "execution_count": 124,
   "id": "01d211d2",
   "metadata": {},
   "outputs": [
    {
     "data": {
      "text/plain": [
       "array([3. , 7.8, 7.3, 5.1, 6.3, 7.2, 9.2])"
      ]
     },
     "execution_count": 124,
     "metadata": {},
     "output_type": "execute_result"
    }
   ],
   "source": [
    "ex = np.round(d[0], decimals=1)\n",
    "ex"
   ]
  },
  {
   "cell_type": "code",
   "execution_count": 140,
   "id": "96d414bb",
   "metadata": {},
   "outputs": [
    {
     "data": {
      "text/plain": [
       "array([6, 1, 2], dtype=int64)"
      ]
     },
     "execution_count": 140,
     "metadata": {},
     "output_type": "execute_result"
    }
   ],
   "source": [
    "p = np.argsort(d[0])[:k:-1]\n",
    "k = 3\n",
    "p"
   ]
  },
  {
   "cell_type": "code",
   "execution_count": 136,
   "id": "b2878c51",
   "metadata": {},
   "outputs": [
    {
     "data": {
      "text/plain": [
       "array([6, 1, 2], dtype=int64)"
      ]
     },
     "execution_count": 136,
     "metadata": {},
     "output_type": "execute_result"
    }
   ],
   "source": [
    "ids = p[:k]\n",
    "ids"
   ]
  },
  {
   "cell_type": "code",
   "execution_count": null,
   "id": "a31d0bc6",
   "metadata": {},
   "outputs": [],
   "source": [
    "self.y_train"
   ]
  },
  {
   "cell_type": "code",
   "execution_count": 132,
   "id": "90f9146c",
   "metadata": {},
   "outputs": [
    {
     "ename": "NameError",
     "evalue": "name 'closest_y' is not defined",
     "output_type": "error",
     "traceback": [
      "\u001b[1;31m---------------------------------------------------------------------------\u001b[0m",
      "\u001b[1;31mNameError\u001b[0m                                 Traceback (most recent call last)",
      "Cell \u001b[1;32mIn [132], line 3\u001b[0m\n\u001b[0;32m      1\u001b[0m \u001b[38;5;28;01mfor\u001b[39;00m i \u001b[38;5;129;01min\u001b[39;00m \u001b[38;5;28mrange\u001b[39m(\u001b[38;5;241m100\u001b[39m):\n\u001b[0;32m      2\u001b[0m     arr \u001b[38;5;241m=\u001b[39m np\u001b[38;5;241m.\u001b[39marray([i, \u001b[38;5;241m2\u001b[39m\u001b[38;5;241m*\u001b[39mi])\n\u001b[1;32m----> 3\u001b[0m     \u001b[43mclosest_y\u001b[49m[i] \u001b[38;5;241m=\u001b[39m arr\n\u001b[0;32m      4\u001b[0m \u001b[38;5;28mprint\u001b[39m(closest_y)\n",
      "\u001b[1;31mNameError\u001b[0m: name 'closest_y' is not defined"
     ]
    }
   ],
   "source": [
    "for i in range(100):\n",
    "    arr = np.array([i, 2*i])\n",
    "    closest_y[i] = arr\n",
    "print(closest_y)"
   ]
  },
  {
   "cell_type": "code",
   "execution_count": 139,
   "id": "6645f888",
   "metadata": {},
   "outputs": [
    {
     "name": "stdout",
     "output_type": "stream",
     "text": [
      "3\n",
      "[0, 1, 2]\n"
     ]
    }
   ],
   "source": [
    "print(k)\n",
    "temp = [j for j in range(k)]\n",
    "print(temp)"
   ]
  },
  {
   "cell_type": "code",
   "execution_count": 145,
   "id": "8bf84dd0",
   "metadata": {},
   "outputs": [],
   "source": [
    "y_train = np.array(['a', 'b', 'a', 'a', 'a', 'b', 'a', 'b', 'a', 'b'])"
   ]
  },
  {
   "cell_type": "code",
   "execution_count": 147,
   "id": "a4d06fdc",
   "metadata": {},
   "outputs": [
    {
     "name": "stdout",
     "output_type": "stream",
     "text": [
      "[6 1 2]\n"
     ]
    },
    {
     "data": {
      "text/plain": [
       "['a', 'b', 'a']"
      ]
     },
     "execution_count": 147,
     "metadata": {},
     "output_type": "execute_result"
    }
   ],
   "source": [
    "print(p)\n",
    "temp1 = [y_train[trn_pnt] for trn_pnt in p]\n",
    "temp1"
   ]
  },
  {
   "cell_type": "code",
   "execution_count": 169,
   "id": "1b6befd0",
   "metadata": {},
   "outputs": [],
   "source": [
    "last = np.array([10, 2, 7, 7, 7, 4, -1, 4, -1, 4, 3, 1, -1, 1])"
   ]
  },
  {
   "cell_type": "code",
   "execution_count": 170,
   "id": "3aa6eeda",
   "metadata": {},
   "outputs": [
    {
     "name": "stdout",
     "output_type": "stream",
     "text": [
      "[-1  1  2  3  4  7 10]\n",
      "[3 2 1 1 3 3 1]\n"
     ]
    }
   ],
   "source": [
    "unqs, counts = np.unique(last, return_counts=True)\n",
    "print(unqs)\n",
    "print(counts)"
   ]
  },
  {
   "cell_type": "code",
   "execution_count": 171,
   "id": "0c507efa",
   "metadata": {},
   "outputs": [
    {
     "data": {
      "text/plain": [
       "-1"
      ]
     },
     "execution_count": 171,
     "metadata": {},
     "output_type": "execute_result"
    }
   ],
   "source": [
    "label = unqs[np.argmax(counts)]\n",
    "label"
   ]
  }
 ],
 "metadata": {
  "kernelspec": {
   "display_name": "Python 3 (ipykernel)",
   "language": "python",
   "name": "python3"
  },
  "language_info": {
   "codemirror_mode": {
    "name": "ipython",
    "version": 3
   },
   "file_extension": ".py",
   "mimetype": "text/x-python",
   "name": "python",
   "nbconvert_exporter": "python",
   "pygments_lexer": "ipython3",
   "version": "3.10.4"
  }
 },
 "nbformat": 4,
 "nbformat_minor": 5
}
